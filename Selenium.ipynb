{
 "cells": [
  {
   "cell_type": "code",
   "execution_count": null,
   "metadata": {},
   "outputs": [],
   "source": []
  },
  {
   "cell_type": "code",
   "execution_count": 165,
   "metadata": {},
   "outputs": [],
   "source": [
    "from selenium import webdriver"
   ]
  },
  {
   "cell_type": "code",
   "execution_count": 166,
   "metadata": {},
   "outputs": [],
   "source": [
    "driver = webdriver.Chrome(executable_path=\"chromedriver_linux64/chromedriver\")\n",
    "url = \"https://www.indeed.fr/Emplois-Data-Scientist\"\n",
    "driver.get(url)\n",
    "#get the button\n"
   ]
  },
  {
   "cell_type": "code",
   "execution_count": 167,
   "metadata": {},
   "outputs": [],
   "source": [
    "e=driver.find_elements_by_css_selector(\"jobsearch-SerpJobCard row result clickcard\")\n",
    "\n",
    "#now we will load the html in bs\n",
    "page=BeautifulSoup(driver.page_source,'lxml')\n"
   ]
  },
  {
   "cell_type": "code",
   "execution_count": 168,
   "metadata": {},
   "outputs": [],
   "source": [
    "r=page.find_all('div',class_='jobsearch-SerpJobCard row result clickcard')"
   ]
  },
  {
   "cell_type": "code",
   "execution_count": 169,
   "metadata": {},
   "outputs": [
    {
     "name": "stdout",
     "output_type": "stream",
     "text": [
      "cle0\n",
      "pj_5f461f7b0e28724b\n",
      "cle1\n",
      "pj_6765cffceac6de7a\n",
      "cle2\n",
      "pj_7af999588642f18a\n",
      "cle3\n",
      "pj_5962d1bbcd42487f\n",
      "cle4\n",
      "pj_1b13b7bb0660ef27\n",
      "cle5\n",
      "p_f90ab126d016699d\n",
      "cle6\n",
      "p_48b059e3b9ce6632\n",
      "cle7\n",
      "p_615bca67c8567bb3\n",
      "cle8\n",
      "p_51b1aab55225b058\n",
      "cle9\n",
      "p_07ae165efb5f3d67\n",
      "cle10\n",
      "p_15701f69a0b8eee6\n",
      "cle11\n",
      "p_36e39b0027f01aa2\n",
      "cle12\n",
      "p_a75d16212d89c888\n",
      "cle13\n",
      "p_091f0945e3a310ee\n",
      "cle14\n",
      "pj_538c4feee3286427\n"
     ]
    }
   ],
   "source": [
    "ids=[]\n",
    "for k,v in enumerate(r):\n",
    "    print(\"cle\"+str(k))\n",
    "    print(v.get('id'))\n",
    "    ids.append(v.get('id'))"
   ]
  },
  {
   "cell_type": "markdown",
   "metadata": {
    "scrolled": false
   },
   "source": []
  },
  {
   "cell_type": "code",
   "execution_count": 170,
   "metadata": {},
   "outputs": [],
   "source": [
    "buttons=[]\n",
    "for idd in ids:\n",
    "    buttons.append(driver.find_element_by_id(idd))"
   ]
  },
  {
   "cell_type": "code",
   "execution_count": 182,
   "metadata": {},
   "outputs": [],
   "source": [
    "for b in buttons:\n",
    "    b.click()"
   ]
  },
  {
   "cell_type": "code",
   "execution_count": 172,
   "metadata": {},
   "outputs": [],
   "source": [
    "from selenium.webdriver.common.keys import Keys"
   ]
  },
  {
   "cell_type": "code",
   "execution_count": 180,
   "metadata": {},
   "outputs": [],
   "source": [
    "driver.find_element_by_tag_name('body').send_keys(Keys.CONTROL+'w')"
   ]
  },
  {
   "cell_type": "code",
   "execution_count": 189,
   "metadata": {},
   "outputs": [],
   "source": [
    "buttons[0].click()\n",
    "current_window = driver.current_window_handle"
   ]
  },
  {
   "cell_type": "code",
   "execution_count": 199,
   "metadata": {},
   "outputs": [],
   "source": [
    "new_window = [window for window in driver.window_handles if window != current_window]\n",
    "driver.switch_to.window(new_window[0])\n",
    "driver.close()"
   ]
  },
  {
   "cell_type": "code",
   "execution_count": null,
   "metadata": {},
   "outputs": [],
   "source": []
  }
 ],
 "metadata": {
  "kernelspec": {
   "display_name": "Python 3",
   "language": "python",
   "name": "python3"
  },
  "language_info": {
   "codemirror_mode": {
    "name": "ipython",
    "version": 3
   },
   "file_extension": ".py",
   "mimetype": "text/x-python",
   "name": "python",
   "nbconvert_exporter": "python",
   "pygments_lexer": "ipython3",
   "version": "3.7.1"
  }
 },
 "nbformat": 4,
 "nbformat_minor": 2
}
